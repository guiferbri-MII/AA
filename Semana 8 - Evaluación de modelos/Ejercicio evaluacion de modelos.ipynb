{
 "cells": [
  {
   "cell_type": "markdown",
   "metadata": {},
   "source": [
    "# Evaluación de modelos (ejercicio)"
   ]
  },
  {
   "cell_type": "markdown",
   "metadata": {},
   "source": [
    "### **Importante: comentar adecuadamente cada paso realizado**, relacionándolo con lo visto en la teoría."
   ]
  },
  {
   "cell_type": "markdown",
   "metadata": {},
   "source": [
    "Para este ejercicio usaremos de nuevo los datos de cáncer de mama que están accesibles en scikit-learn."
   ]
  },
  {
   "cell_type": "code",
   "execution_count": 82,
   "metadata": {},
   "outputs": [],
   "source": [
    "from sklearn.datasets import load_breast_cancer\n",
    "cancer = load_breast_cancer()"
   ]
  },
  {
   "cell_type": "markdown",
   "metadata": {},
   "source": [
    "## Parte 1: validación cruzada estratificada"
   ]
  },
  {
   "cell_type": "markdown",
   "metadata": {},
   "source": [
    "Se pide implementar una funcion `mi_cross_val_f1` que aplique validación cruzada con $k$ particiones estratificadas, y que use **$F_1$ como métrica**. Similar a la función `cross_val_score`, pero específicamente con particiones estratificadas y métrica $F_1$, **y obviamente sin usar `cross_val_score`**.  \n",
    "\n",
    "En concreto, la función debe tener los siguientes argumentos de entrada, `mi_cross_val_f1`*(modelo,X,y,n_splits=5,clase_positiva=1)*, donde:\n",
    "\n",
    "- *modelo* es un un clasificador (en particular, un objeto de una clase que tenga métodos `fit` y `predict`).\n",
    "- *X* es un array con los datos.\n",
    "- *y* es un array con la clasificación (binaria) de los datos anteriores.\n",
    "- *n_splits* es el número de particiones en la validación cruzada. Por defecto es 5.\n",
    "- *clase_positiva* la clase que se ha considerar como positiva cuando se calcule la métrica $F_1$. Por defecto es 1. Nótese que al calcular la métrica $F_1$ debemos saber qué clase es la que se considera como positiva.  \n",
    "\n",
    "Debe devolver una lista o array con *n_splits* números, los resultados de las *n_splits* evaluaciones de la métrica $F_1$ que se realizan al aplicar validación cruzada con *n_splits* particiones estratificadas. \n",
    "\n",
    "**Nota**: no se puede usar `cross_val_score`, pero se debe usar `f1_score`y la clase `StratifiedKFold` (consultar la documentación de ambas)"
   ]
  },
  {
   "cell_type": "markdown",
   "metadata": {},
   "source": [
    "**Ejemplos**:"
   ]
  },
  {
   "cell_type": "code",
   "execution_count": 83,
   "metadata": {},
   "outputs": [],
   "source": [
    "from sklearn.model_selection import train_test_split\n",
    "X_train, X_test, y_train, y_test = train_test_split(\n",
    "    cancer.data, cancer.target, stratify=cancer.target, random_state=0)\n",
    "\n",
    "from sklearn.linear_model import LogisticRegression\n",
    "logreg=LogisticRegression(solver=\"liblinear\")\n",
    "\n",
    "\n",
    "# mi_cross_val_f1(logreg,X_train,y_train) devuelve:\n",
    "\n",
    "#[0.9629629629629629,\n",
    "# 0.9541284403669724,\n",
    "# 0.9320388349514563,\n",
    "# 0.9814814814814815,\n",
    "# 0.9724770642201834]\n",
    "\n",
    "# mi_cross_val_f1(logreg,X_train,y_train,n_splits=10) devuelve:\n",
    "\n",
    "#[0.9818181818181818,\n",
    "# 0.9433962264150944,\n",
    "# 0.9433962264150944,\n",
    "# 0.9642857142857143,\n",
    "# 0.9433962264150944,\n",
    "# 0.9629629629629629,\n",
    "# 0.9818181818181818,\n",
    "# 0.9811320754716981,\n",
    "# 0.9811320754716981,\n",
    "# 0.962962962962963]\n",
    "\n",
    "# mi_cross_val_f1(logreg,X_train,y_train,n_splits=10,clase=0)\n",
    "\n",
    "#[0.967741935483871,\n",
    "# 0.9090909090909091,\n",
    "# 0.9090909090909091,\n",
    "# 0.9333333333333333,\n",
    "# 0.9090909090909091,\n",
    "# 0.9375,\n",
    "# 0.967741935483871,\n",
    "# 0.967741935483871,\n",
    "# 0.967741935483871,\n",
    "# 0.9285714285714286]"
   ]
  },
  {
   "cell_type": "markdown",
   "metadata": {},
   "source": [
    "### Ejercicio\n",
    "Definimos la función `mi_cross_val_f1`como se indica el enunciado. El funcionamiento es el siguiente: con el método `split` de la clase `StratifiedKFold`, obtenemos los conjuntos de entrenamiento y pruebas estratificados en el número de particiones que nos indique el parámetro *n_splits*. A continuación, para cada grupo de conjunto obtenemos los correspondientes a los datos, *X_train* para el conjunto de entrenamiento y *X_test* para el de pruebas; y los correspondientes a los de la clasificación, *y_train* para el conjunto de entrenamiento y *y_test* para el de pruebas. Entrenamos el modelo y obtenemos la predicción sobre el conjunto de pruebas. Por último aplicamos la métrica $F_1$ mediante la clase `f1_score`, a la cual le indicamos la clasificación real (*y_test*), la predicción obtenida anteriormente (*y_pred*), la clase que consideramos positiva (se indica como parámetro de la función) y *average*, que realmente no sería necesario al tratarse en este de caso de un problema binario porque este es su valor por defecto."
   ]
  },
  {
   "cell_type": "code",
   "execution_count": 84,
   "metadata": {},
   "outputs": [],
   "source": [
    "# Definr aquí mi_cross_val_f1\n",
    "from sklearn.metrics import f1_score\n",
    "from sklearn.model_selection import StratifiedKFold\n",
    "def mi_cross_val_f1(modelo,X,y,n_splits=5,clase_positiva=1):\n",
    "    skf = StratifiedKFold(n_splits=n_splits)\n",
    "    f1Score = []\n",
    "    for train_index, test_index in skf.split(X, y):\n",
    "        X_train, X_test = X[train_index], X[test_index]\n",
    "        y_train, y_test = y[train_index], y[test_index]\n",
    "        modelo.fit(X_train, y_train)\n",
    "        y_pred = modelo.predict(X_test)\n",
    "        f1Score.append(f1_score(y_test, y_pred, pos_label = clase_positiva, average='binary'))\n",
    "    return f1Score"
   ]
  },
  {
   "cell_type": "markdown",
   "metadata": {},
   "source": [
    "A continuación vamos a probar esta función con distintos valores y más adelante con `cross_val_score`, y veremos que los resultados coinciden."
   ]
  },
  {
   "cell_type": "code",
   "execution_count": 85,
   "metadata": {},
   "outputs": [
    {
     "data": {
      "text/plain": [
       "[0.9629629629629629,\n",
       " 0.9629629629629629,\n",
       " 0.9142857142857143,\n",
       " 0.9814814814814815,\n",
       " 0.9724770642201834]"
      ]
     },
     "execution_count": 85,
     "metadata": {},
     "output_type": "execute_result"
    }
   ],
   "source": [
    "mi_cross_val_f1(logreg,X_train,y_train)"
   ]
  },
  {
   "cell_type": "code",
   "execution_count": 86,
   "metadata": {},
   "outputs": [
    {
     "data": {
      "text/plain": [
       "[0.9818181818181818,\n",
       " 0.9433962264150944,\n",
       " 0.9433962264150944,\n",
       " 0.9642857142857143,\n",
       " 0.9433962264150944,\n",
       " 0.9629629629629629,\n",
       " 0.9818181818181818,\n",
       " 0.9811320754716981,\n",
       " 0.9811320754716981,\n",
       " 0.962962962962963]"
      ]
     },
     "execution_count": 86,
     "metadata": {},
     "output_type": "execute_result"
    }
   ],
   "source": [
    "mi_cross_val_f1(logreg,X_train,y_train,n_splits=10)"
   ]
  },
  {
   "cell_type": "code",
   "execution_count": 87,
   "metadata": {},
   "outputs": [
    {
     "data": {
      "text/plain": [
       "[0.967741935483871,\n",
       " 0.9090909090909091,\n",
       " 0.9090909090909091,\n",
       " 0.9333333333333333,\n",
       " 0.9090909090909091,\n",
       " 0.9375,\n",
       " 0.9655172413793104,\n",
       " 0.967741935483871,\n",
       " 0.967741935483871,\n",
       " 0.9333333333333333]"
      ]
     },
     "execution_count": 87,
     "metadata": {},
     "output_type": "execute_result"
    }
   ],
   "source": [
    "mi_cross_val_f1(logreg,X_train,y_train,n_splits=10,clase_positiva=0)"
   ]
  },
  {
   "cell_type": "markdown",
   "metadata": {},
   "source": [
    "Se puede comprobar que los tres ejemplos anteriores efectivamente coinciden con lo que devuelve `cross_val_score`:"
   ]
  },
  {
   "cell_type": "code",
   "execution_count": 88,
   "metadata": {},
   "outputs": [],
   "source": [
    "from sklearn.model_selection import cross_val_score\n",
    "from sklearn.metrics import make_scorer,f1_score"
   ]
  },
  {
   "cell_type": "code",
   "execution_count": 89,
   "metadata": {},
   "outputs": [],
   "source": [
    "import numpy.testing as testing\n",
    "result = mi_cross_val_f1(logreg,X_train,y_train)\n",
    "origin = cross_val_score(logreg,X_train,y_train,scoring=make_scorer(f1_score),cv=5)\n",
    "testing.assert_array_equal(result, origin)"
   ]
  },
  {
   "cell_type": "code",
   "execution_count": 90,
   "metadata": {},
   "outputs": [
    {
     "data": {
      "text/plain": [
       "array([0.96296296, 0.96296296, 0.91428571, 0.98148148, 0.97247706])"
      ]
     },
     "execution_count": 90,
     "metadata": {},
     "output_type": "execute_result"
    }
   ],
   "source": [
    "cross_val_score(logreg,X_train,y_train,scoring=make_scorer(f1_score),cv=5)"
   ]
  },
  {
   "cell_type": "code",
   "execution_count": 91,
   "metadata": {},
   "outputs": [
    {
     "data": {
      "text/plain": [
       "array([0.98181818, 0.94339623, 0.94339623, 0.96428571, 0.94339623,\n",
       "       0.96296296, 0.98181818, 0.98113208, 0.98113208, 0.96296296])"
      ]
     },
     "execution_count": 91,
     "metadata": {},
     "output_type": "execute_result"
    }
   ],
   "source": [
    "cross_val_score(logreg,X_train,y_train,scoring=make_scorer(f1_score),cv=10)"
   ]
  },
  {
   "cell_type": "code",
   "execution_count": 92,
   "metadata": {},
   "outputs": [
    {
     "data": {
      "text/plain": [
       "array([0.96774194, 0.90909091, 0.90909091, 0.93333333, 0.90909091,\n",
       "       0.9375    , 0.96551724, 0.96774194, 0.96774194, 0.93333333])"
      ]
     },
     "execution_count": 92,
     "metadata": {},
     "output_type": "execute_result"
    }
   ],
   "source": [
    "cross_val_score(logreg,X_train,y_train,scoring=make_scorer(f1_score,pos_label=0),cv=10)"
   ]
  },
  {
   "cell_type": "markdown",
   "metadata": {},
   "source": [
    "## Parte 2: evaluación de modelos para datos del cáncer de mama"
   ]
  },
  {
   "cell_type": "markdown",
   "metadata": {},
   "source": [
    "En esta parte supondremos que queremos encontrar un buen modelo para clasificación en el caso del cáncer de mama. Nos restingiremos a dos familias de clasificadores:\n",
    "\n",
    "1. **SGDClassifier** con *loss=\"log\"*. Es decir, regresión logística mediante descenso por el gradiente. \n",
    "2. **SVC**, máquina de vectores soporte con kernels.\n",
    "\n",
    "En los datos del cáncer de mama, la clase 0 se corresponde con *maligno* y la clase 1 se corresponde con *benigno*. Supondremos también en esta sección que estamos interesado principalmente en el rendimiento sobre la detección del cáncer. Es decir, consideremos *maligno* como la clase positiva.\n",
    "\n",
    "**Nota importante**: la clase positiva por defecto en scikit-learn es 1, y en este caso queremos considerar la clase 0 como la positiva. Para ello tenemos dos opciones:\n",
    "\n",
    "- Usar el parámetro `pos_label` en las distintas funciones que usemos.\n",
    "- Hacer una transformación inicial de las clases, para poner el 1 como 0 y el 0 como 1. Eso se consigue fácilmente haciendo `1-cancer.target`"
   ]
  },
  {
   "cell_type": "markdown",
   "metadata": {},
   "source": [
    "### 2.1 *Grid Search* con validación cruzada\n",
    "\n"
   ]
  },
  {
   "cell_type": "markdown",
   "metadata": {},
   "source": [
    "Aplicar `GridSearchCV` para ajustar hiperparámetros de los modelos `SGDClassifier`y `SVC`, aplicados al conjunto de datos del cáncer de mama.  En lugar de tratar de optimizar la tasa de aciertos, tratar de optimizar la métrica $F_1$ calculada considerando que los ejemplos de tumor \"maligno\" son los positivos. \n",
    "\n",
    "Tratar de encontrar valores optimos solo para aquellos hiperparámetos del modelo que te sean familiares y para valores de los que conozcas el significado. Probar con distintas rejillas. \n",
    "\n",
    "Una vez ajustados los dos modelos, dar para ambos:\n",
    "\n",
    "- La tasa de aciertos, tanto en el conjunto de entrenamiento como en el de prueba.\n",
    "- Matriz de confusión, tanto en entrenamiento como en prueba.\n",
    "- *Classification report*, tanto para entrenamiento como para prueba. \n",
    "\n",
    "Interpretar los resultados. \n"
   ]
  },
  {
   "cell_type": "markdown",
   "metadata": {},
   "source": [
    "### Ejercicio\n",
    "En primer lugar vamos a dividir los datos en un conjunto de entrenamiento y otro de pruebas. Aunque este paso se ha realizado para el ejercicio anterior, esta vez le vamos a aplicar la transformación para poner la clasificación 1 como 0 y 0 como 1."
   ]
  },
  {
   "cell_type": "code",
   "execution_count": 93,
   "metadata": {},
   "outputs": [],
   "source": [
    "X_train, X_test, y_train, y_test = train_test_split(cancer.data, 1-cancer.target, random_state=0)\n",
    "target_names_rev = cancer.target_names[::-1]"
   ]
  },
  {
   "cell_type": "markdown",
   "metadata": {},
   "source": [
    "Empecemos por el clasificador `SGDClassifier`. Vamos a aplicar `GridSearchCV` con la siguiente configuración:\n",
    "- El clasificador `SGDClassifier`\n",
    "- Posibles valores del parámetro de suavizado *alpha*\n",
    "- Posibles valores de regularización *penalty*\n",
    "- Como función de pérdida (*loss*) la indicada en el enunciado: regresión logística mediante descenso por el gradiente (*log*)\n",
    "- Número máximo de iteraciones para intentar evitar el warning de la convergencia\n",
    "- *scoring* f1 para optimizar esta métrica, en lugar de la tasa de aciertos que es la de por defecto\n",
    "\n",
    "Vamos a mostrar qué resultados obtenemos y con qué hiperparámetros se consigue."
   ]
  },
  {
   "cell_type": "code",
   "execution_count": 94,
   "metadata": {},
   "outputs": [
    {
     "name": "stderr",
     "output_type": "stream",
     "text": [
      "/usr/local/lib/python3.9/site-packages/sklearn/linear_model/_stochastic_gradient.py:696: ConvergenceWarning: Maximum number of iteration reached before convergence. Consider increasing max_iter to improve the fit.\n",
      "  warnings.warn(\n",
      "/usr/local/lib/python3.9/site-packages/sklearn/linear_model/_stochastic_gradient.py:696: ConvergenceWarning: Maximum number of iteration reached before convergence. Consider increasing max_iter to improve the fit.\n",
      "  warnings.warn(\n",
      "/usr/local/lib/python3.9/site-packages/sklearn/linear_model/_stochastic_gradient.py:696: ConvergenceWarning: Maximum number of iteration reached before convergence. Consider increasing max_iter to improve the fit.\n",
      "  warnings.warn(\n"
     ]
    },
    {
     "name": "stdout",
     "output_type": "stream",
     "text": [
      "Mejor clasificador encontrado: SGDClassifier(alpha=0.1, loss='log', max_iter=5000, penalty='l1')\n",
      "Evaluación sobre el conjunto de test: 0.830\n"
     ]
    },
    {
     "name": "stderr",
     "output_type": "stream",
     "text": [
      "/usr/local/lib/python3.9/site-packages/sklearn/linear_model/_stochastic_gradient.py:696: ConvergenceWarning: Maximum number of iteration reached before convergence. Consider increasing max_iter to improve the fit.\n",
      "  warnings.warn(\n"
     ]
    }
   ],
   "source": [
    "from sklearn.linear_model import SGDClassifier\n",
    "from sklearn.model_selection import GridSearchCV\n",
    "param_grid_sgd = {\n",
    "    'loss' : ['log'],\n",
    "    'alpha': [0.001, 0.01, 0.1, 1, 10, 100],\n",
    "    'penalty' : ['l1', 'l2'],\n",
    "    'max_iter': [5000]\n",
    "}\n",
    "grid_search_sgd = GridSearchCV(SGDClassifier(), param_grid_sgd, cv=5, return_train_score=True, scoring='f1') \n",
    "grid_search_sgd.fit(X_train, y_train)\n",
    "print(\"Mejor clasificador encontrado: {}\".format(grid_search_sgd.best_estimator_))\n",
    "print(\"Evaluación sobre el conjunto de test: {:.3f}\".format(grid_search_sgd.score(X_test, y_test)))"
   ]
  },
  {
   "cell_type": "markdown",
   "metadata": {},
   "source": [
    "Ahora que tenemos ajustado el modelo, veamos la matriz de confusión, que como hemos visto en las clases y anteriormente, nos proporciona una predicción hecha por un clasificador respecto de los valores de clasificación reales."
   ]
  },
  {
   "cell_type": "code",
   "execution_count": 95,
   "metadata": {},
   "outputs": [
    {
     "name": "stdout",
     "output_type": "stream",
     "text": [
      "Confusion matrix:\n",
      "[[81  9]\n",
      " [ 9 44]]\n",
      "\n",
      "Obtenemos:\n",
      "81 verdaderos negativos (TN)\n",
      "9 falsos positivos (FP)\n",
      "9 falsos negativos (FN)\n",
      "44 verdaderos positivos\n"
     ]
    }
   ],
   "source": [
    "from sklearn.metrics import confusion_matrix\n",
    "y_pred_sgd = grid_search_sgd.predict(X_test)\n",
    "confusion_sgd = confusion_matrix(y_test, y_pred_sgd)\n",
    "print(\"Confusion matrix:\\n{}\\n\".format(confusion_sgd))\n",
    "print(\"Obtenemos:\\n{} verdaderos negativos (TN)\\n{} falsos positivos (FP)\".format(confusion_sgd[0][0], confusion_sgd[0][1]))\n",
    "print(\"{} falsos negativos (FN)\\n{} verdaderos positivos\".format(confusion_sgd[1][0], confusion_sgd[1][1]))\n"
   ]
  },
  {
   "cell_type": "markdown",
   "metadata": {},
   "source": [
    "No está nada mal la tasa de aciertos<br><br>\n",
    "Por últimos vamos a utilizar `classification_report`, que calcula la precision, recall y F1 para cada posible clasificación"
   ]
  },
  {
   "cell_type": "code",
   "execution_count": 96,
   "metadata": {},
   "outputs": [
    {
     "name": "stdout",
     "output_type": "stream",
     "text": [
      "              precision    recall  f1-score   support\n",
      "\n",
      "      benign       0.90      0.90      0.90        90\n",
      "   malignant       0.83      0.83      0.83        53\n",
      "\n",
      "    accuracy                           0.87       143\n",
      "   macro avg       0.87      0.87      0.87       143\n",
      "weighted avg       0.87      0.87      0.87       143\n",
      "\n"
     ]
    }
   ],
   "source": [
    "from sklearn.metrics import classification_report\n",
    "print(classification_report(y_test, y_pred_sgd, target_names = target_names_rev))"
   ]
  },
  {
   "cell_type": "markdown",
   "metadata": {},
   "source": [
    "A continuación vamos a repetir los mismos pasos pero utilizando máquina de vectores soporte con kernels `SVC`. Similar al caso anterior, la configuración de `GridSearchCV` es la siguiente:\n",
    "\n",
    "Empecemos por el clasificador `SGDClassifier`. Vamos a aplicar `GridSearchCV` con la siguiente configuración:\n",
    "- El clasificador `SVC`\n",
    "- Posibles valores del parámetro del coeficiente del kernel *gamma*\n",
    "- Posibles valores del coeficiente de regularización *C*\n",
    "- *scoring* f1 para optimizar esta métrica, en lugar de la tasa de aciertos que es la de por defecto\n",
    "\n",
    "Vamos a mostrar qué resultados obtenemos y con qué hiperparámetros se consigue."
   ]
  },
  {
   "cell_type": "code",
   "execution_count": 97,
   "metadata": {},
   "outputs": [
    {
     "name": "stdout",
     "output_type": "stream",
     "text": [
      "Mejor clasificador encontrado: {} SVC(C=1, gamma=0.001)\n",
      "Evaluación sobre el conjunto de test: 0.91\n"
     ]
    }
   ],
   "source": [
    "from sklearn.svm import SVC\n",
    "param_grid_svc = {\n",
    "    'gamma': [0.001, 0.01, 0.1, 1, 10, 100],\n",
    "    'C' : [0.001, 0.01, 0.1, 1, 10, 100]\n",
    "}\n",
    "grid_search_svc = GridSearchCV(SVC(), param_grid_svc, cv=5, return_train_score=True, scoring='f1') \n",
    "grid_search_svc.fit(X_train, y_train)\n",
    "print(\"Mejor clasificador encontrado: {}\", grid_search_svc.best_estimator_)\n",
    "print(\"Evaluación sobre el conjunto de test: {:.2f}\".format(grid_search_svc.score(X_test, y_test)))\n"
   ]
  },
  {
   "cell_type": "markdown",
   "metadata": {},
   "source": [
    "A continuación se muestra los resultados de la matriz de confusión."
   ]
  },
  {
   "cell_type": "code",
   "execution_count": 98,
   "metadata": {},
   "outputs": [
    {
     "name": "stdout",
     "output_type": "stream",
     "text": [
      "Confusion matrix:\n",
      "[[84  6]\n",
      " [ 4 49]]\n",
      "\n",
      "Obtenemos:\n",
      "84 verdaderos negativos (TN)\n",
      "6 falsos positivos (FP)\n",
      "4 falsos negativos (FN)\n",
      "49 verdaderos positivos\n"
     ]
    }
   ],
   "source": [
    "y_pred_svc = grid_search_svc.predict(X_test)\n",
    "confusion_svc = confusion_matrix(y_test, y_pred_svc)\n",
    "print(\"Confusion matrix:\\n{}\\n\".format(confusion_svc))\n",
    "print(\"Obtenemos:\\n{} verdaderos negativos (TN)\\n{} falsos positivos (FP)\".format(confusion_svc[0][0], confusion_svc[0][1]))\n",
    "print(\"{} falsos negativos (FN)\\n{} verdaderos positivos\".format(confusion_svc[1][0], confusion_svc[1][1]))"
   ]
  },
  {
   "cell_type": "markdown",
   "metadata": {},
   "source": [
    "Y por último *classification report*"
   ]
  },
  {
   "cell_type": "code",
   "execution_count": 99,
   "metadata": {},
   "outputs": [
    {
     "name": "stdout",
     "output_type": "stream",
     "text": [
      "              precision    recall  f1-score   support\n",
      "\n",
      "      benign       0.95      0.93      0.94        90\n",
      "   malignant       0.89      0.92      0.91        53\n",
      "\n",
      "    accuracy                           0.93       143\n",
      "   macro avg       0.92      0.93      0.93       143\n",
      "weighted avg       0.93      0.93      0.93       143\n",
      "\n"
     ]
    }
   ],
   "source": [
    "print(classification_report(y_test, y_pred_svc, target_names = target_names_rev))"
   ]
  },
  {
   "cell_type": "markdown",
   "metadata": {},
   "source": [
    "Comparado con el clasificador anterior, obtenemos mejores resultados con SVC."
   ]
  },
  {
   "cell_type": "markdown",
   "metadata": {},
   "source": [
    "### 2.2 Curvas *ROC* y *PR*\n",
    "\n",
    "Comparar ambos modelos construidos en el apartado anterior, dibujando sendas gráficas con las curvas ROC de ambos y con las curvas PR de ambos. Interretar las gráficas y calcular para ambos modelos la precisión media (*average precision*) y el área bajo la curva (*AUC*).\n",
    "\n",
    "Interpretar los resultados."
   ]
  },
  {
   "cell_type": "markdown",
   "metadata": {},
   "source": [
    "### Ejercicio\n",
    "Vamos a empezar dibujando las curvas **ROC** de los 2 modelos que hemos construido anteriormente."
   ]
  },
  {
   "cell_type": "code",
   "execution_count": 100,
   "metadata": {},
   "outputs": [
    {
     "data": {
      "text/plain": [
       "<matplotlib.legend.Legend at 0x120d18880>"
      ]
     },
     "execution_count": 100,
     "metadata": {},
     "output_type": "execute_result"
    },
    {
     "data": {
      "image/png": "[encoded data removed]",
      "text/plain": [
       "<Figure size 432x288 with 1 Axes>"
      ]
     },
     "metadata": {
      "needs_background": "light"
     },
     "output_type": "display_data"
    }
   ],
   "source": [
    "import matplotlib.pyplot as plt\n",
    "from sklearn.metrics import roc_curve\n",
    "import numpy as np\n",
    "\n",
    "fpr_svc, tpr_svc, thresholds_svc = roc_curve(y_test, grid_search_svc.decision_function(X_test))\n",
    "fpr_sgd, tpr_sgd, thresholds_sgd = roc_curve(y_test, grid_search_sgd.decision_function(X_test))\n",
    "\n",
    "plt.plot(fpr_svc, tpr_svc, label=\"Curva ROC SVC\")\n",
    "plt.plot(fpr_sgd, tpr_sgd, label=\"Curva ROC RF\")\n",
    "\n",
    "plt.xlabel(\"FPR\")\n",
    "plt.ylabel(\"TPR (recall)\")\n",
    "close_zero = np.argmin(np.abs(thresholds_svc))\n",
    "plt.plot(fpr_svc[close_zero], tpr_svc[close_zero], 'o', markersize=10, label=\"umbral 0 SVC\", fillstyle=\"none\", c='k', mew=2)\n",
    "close_default_sgd = np.argmin(np.abs(thresholds_sgd - 0.5))\n",
    "plt.plot(fpr_sgd[close_default_sgd], tpr_sgd[close_default_sgd], '^', markersize=10, label=\"umbral 0.5 RF\", fillstyle=\"none\", c='k', mew=2)\n",
    "\n",
    "plt.legend(loc=4)"
   ]
  },
  {
   "cell_type": "markdown",
   "metadata": {},
   "source": [
    "En curvas ROC el clasificador es mejor cuanto mas cerca esté de la esquina superior izquierda, pues tendríamos un recall alto y una tasa de error (FPR) baja. Observando la gráfica, podemos decir que ambos son muy parecidos, así que vamos a calcular el área bajo la curva (AUC) para ver de forma númerica cuál tiene mejor rendimiento."
   ]
  },
  {
   "cell_type": "code",
   "execution_count": 101,
   "metadata": {},
   "outputs": [
    {
     "name": "stdout",
     "output_type": "stream",
     "text": [
      "AUC de SGD: 0.891\n",
      "AUC de SVC: 0.955\n"
     ]
    }
   ],
   "source": [
    "from sklearn.metrics import roc_auc_score\n",
    "svc_auc = roc_auc_score(y_test, grid_search_svc.decision_function(X_test))\n",
    "sgd_auc = roc_auc_score(y_test, grid_search_sgd.decision_function(X_test))\n",
    "print(\"AUC de SGD: {:.3f}\".format(sgd_auc))\n",
    "print(\"AUC de SVC: {:.3f}\".format(svc_auc))"
   ]
  },
  {
   "cell_type": "markdown",
   "metadata": {},
   "source": [
    "En los resultados obtenidos, confirmamos lo que preveíamos viendo la gráfica: el comportamiento de ambos clasificadores es bastante similar, aunque SVC es un poco mejor que SGD.<br><br>\n",
    "Ahora vamos a dibujar las curvas **PR**."
   ]
  },
  {
   "cell_type": "code",
   "execution_count": 102,
   "metadata": {},
   "outputs": [
    {
     "data": {
      "text/plain": [
       "<matplotlib.legend.Legend at 0x120928070>"
      ]
     },
     "execution_count": 102,
     "metadata": {},
     "output_type": "execute_result"
    },
    {
     "data": {
      "image/png": "[encoded data removed]",
      "text/plain": [
       "<Figure size 432x288 with 1 Axes>"
      ]
     },
     "metadata": {
      "needs_background": "light"
     },
     "output_type": "display_data"
    }
   ],
   "source": [
    "from sklearn.metrics import precision_recall_curve \n",
    "precision_svc, recall_svc, pr_thresholds_svc = precision_recall_curve(y_test, grid_search_svc.decision_function(X_test))\n",
    "precision_sgd, recall_sgs, pr_thresholds_sgd = precision_recall_curve(y_test, grid_search_sgd.decision_function(X_test))\n",
    "\n",
    "close_zero_pr = np.argmin(np.abs(pr_thresholds_svc))\n",
    "plt.plot(precision_svc, recall_svc, label=\"svc\")\n",
    "plt.plot(precision_svc[close_zero_pr], recall_svc[close_zero_pr], 'o', markersize=10, label=\"umbral cero svc\", fillstyle=\"none\", c='k', mew=2)\n",
    "plt.plot(precision_sgd, recall_sgs, label=\"sgd\")\n",
    "\n",
    "close_default_sgd = np.argmin(np.abs(pr_thresholds_sgd - 0.5))\n",
    "plt.plot(precision_sgd[close_default_sgd], recall_sgs[close_default_sgd], '^', c='k', markersize=10, label=\"umbral 0.5 rf\", fillstyle=\"none\", mew=2)\n",
    "plt.xlabel(\"Precision\")\n",
    "plt.ylabel(\"Recall\")\n",
    "plt.legend(loc=\"best\")"
   ]
  },
  {
   "cell_type": "markdown",
   "metadata": {},
   "source": [
    "En curvas PR, cuanto mas cerca esté de la esquina superior derecha, mejor es el clasificador. Podemos decir de lo que vemos en el gráfico, que hasta cierto valor de preción, un poco más de 0,9, SVC sería mejor, pero a partir de ahí sería mejor el clasificador SGD.<br>\n",
    "Vamos a calcular el área bajo la curva, que en curvas PR se le suele llamar precisión media."
   ]
  },
  {
   "cell_type": "code",
   "execution_count": 103,
   "metadata": {},
   "outputs": [
    {
     "name": "stdout",
     "output_type": "stream",
     "text": [
      "Precisión media de SGD: 0.912\n",
      "Precisión media de SVC: 0.941\n"
     ]
    }
   ],
   "source": [
    "from sklearn.metrics import average_precision_score\n",
    "ap_svc = average_precision_score(y_test, grid_search_svc.decision_function(X_test))\n",
    "ap_sgd = average_precision_score(y_test, grid_search_sgd.decision_function(X_test))\n",
    "print(\"Precisión media de SGD: {:.3f}\".format(ap_sgd))\n",
    "print(\"Precisión media de SVC: {:.3f}\".format(ap_svc))"
   ]
  },
  {
   "cell_type": "markdown",
   "metadata": {},
   "source": [
    "Viendo los resultados, comprobamos de nuevo que el comportamiento de ambos clasificadores es bastante similar, siendo ligeramente mejor SGD en esta ocasión"
   ]
  }
 ],
 "metadata": {
  "kernelspec": {
   "display_name": "Python 3",
   "language": "python",
   "name": "python3"
  },
  "language_info": {
   "codemirror_mode": {
    "name": "ipython",
    "version": 3
   },
   "file_extension": ".py",
   "mimetype": "text/x-python",
   "name": "python",
   "nbconvert_exporter": "python",
   "pygments_lexer": "ipython3",
   "version": "3.9.9"
  }
 },
 "nbformat": 4,
 "nbformat_minor": 2
}
