{
 "cells": [
  {
   "cell_type": "markdown",
   "metadata": {},
   "source": [
    "### Aprendizaje automático \n",
    "Segundo trabajo práctico\n",
    "<br>Máster en Ingeniería Informática - Universidad de Sevilla\n",
    "<br>Curso 2021-22\n",
    "\n",
    "APELLIDOS: Fernández de Bobadilla Brioso\n",
    "<br>NOMBRE: Guiomar"
   ]
  },
  {
   "cell_type": "code",
   "execution_count": 27,
   "metadata": {},
   "outputs": [],
   "source": [
    "import pandas as pd\n",
    "features = ['day','month','year','Temp', 'RH', 'Ws', 'Rain', 'FFMC', 'DMC', 'DC', 'ISI', 'BUI', 'FWI', 'Classes']\n",
    "#dateParser = lambda x,y,z: z+'/'+y+'/'+x\n",
    "#convertClass = lambda x: 1 if x.strip() == 'fire' else 0\n",
    "#convertStrFloat = lambda x: float(x)\n",
    "#converters={'FWI': convertStrFloat, 'DC': convertStrFloat, 'Classes' : convertClass}\n",
    "#converters={'Classes' : convertClass}\n",
    "#parse_dates= {\"Date\" : [\"year\",\"month\",\"day\"]}, date_parser = dateParser, converters = converters\n",
    "dataset = pd.read_csv('Algerian_forest_fires_dataset_UPDATE.csv', header=0, names = features, skiprows = [0,124,125,126])\n",
    "#dataset['Date'] = pd.to_datetime(dataset['Date']).dt.date\n",
    "dataset = dataset[dataset['Classes'].notna()] # Quitar el que esta mal\n",
    "dataset['DC'] = dataset.apply(lambda x: float(x['DC']),axis=1)\n",
    "dataset['FWI'] = dataset.apply(lambda x: float(x['FWI']),axis=1) \n",
    "dataset['Classes'] = dataset.apply(lambda x: 1 if x['Classes'].strip() == 'fire' else 0,axis=1)"
   ]
  },
  {
   "cell_type": "code",
   "execution_count": 28,
   "metadata": {},
   "outputs": [
    {
     "name": "stdout",
     "output_type": "stream",
     "text": [
      "<class 'pandas.core.frame.DataFrame'>\n",
      "Int64Index: 243 entries, 0 to 243\n",
      "Data columns (total 14 columns):\n",
      " #   Column   Non-Null Count  Dtype  \n",
      "---  ------   --------------  -----  \n",
      " 0   day      243 non-null    int64  \n",
      " 1   month    243 non-null    int64  \n",
      " 2   year     243 non-null    int64  \n",
      " 3   Temp     243 non-null    int64  \n",
      " 4   RH       243 non-null    int64  \n",
      " 5   Ws       243 non-null    int64  \n",
      " 6   Rain     243 non-null    float64\n",
      " 7   FFMC     243 non-null    float64\n",
      " 8   DMC      243 non-null    float64\n",
      " 9   DC       243 non-null    float64\n",
      " 10  ISI      243 non-null    float64\n",
      " 11  BUI      243 non-null    float64\n",
      " 12  FWI      243 non-null    float64\n",
      " 13  Classes  243 non-null    int64  \n",
      "dtypes: float64(7), int64(7)\n",
      "memory usage: 28.5 KB\n",
      "None\n"
     ]
    }
   ],
   "source": [
    "print(dataset.info())"
   ]
  },
  {
   "cell_type": "code",
   "execution_count": 29,
   "metadata": {},
   "outputs": [
    {
     "data": {
      "text/plain": [
       "<AxesSubplot:>"
      ]
     },
     "execution_count": 29,
     "metadata": {},
     "output_type": "execute_result"
    },
    {
     "data": {
      "image/png": "[encoded data removed]",
      "text/plain": [
       "<Figure size 432x288 with 2 Axes>"
      ]
     },
     "metadata": {
      "needs_background": "light"
     },
     "output_type": "display_data"
    }
   ],
   "source": [
    "import seaborn as sb\n",
    "corr = dataset[['day','month','Classes']].corr()\n",
    "sb.heatmap(corr)"
   ]
  },
  {
   "cell_type": "markdown",
   "metadata": {},
   "source": [
    "no esta correlada la clase con el mes porque es casi 0 y elimino las columnas de fecha"
   ]
  },
  {
   "cell_type": "code",
   "execution_count": 30,
   "metadata": {},
   "outputs": [
    {
     "name": "stdout",
     "output_type": "stream",
     "text": [
      "<class 'pandas.core.frame.DataFrame'>\n",
      "Int64Index: 243 entries, 0 to 243\n",
      "Data columns (total 11 columns):\n",
      " #   Column   Non-Null Count  Dtype  \n",
      "---  ------   --------------  -----  \n",
      " 0   Temp     243 non-null    int64  \n",
      " 1   RH       243 non-null    int64  \n",
      " 2   Ws       243 non-null    int64  \n",
      " 3   Rain     243 non-null    float64\n",
      " 4   FFMC     243 non-null    float64\n",
      " 5   DMC      243 non-null    float64\n",
      " 6   DC       243 non-null    float64\n",
      " 7   ISI      243 non-null    float64\n",
      " 8   BUI      243 non-null    float64\n",
      " 9   FWI      243 non-null    float64\n",
      " 10  Classes  243 non-null    int64  \n",
      "dtypes: float64(7), int64(4)\n",
      "memory usage: 22.8 KB\n",
      "None\n",
      "Collection shape:  (243, 11)\n",
      "Algerian shape:  (243, 10)\n",
      "CLASS:  (243, 1)\n"
     ]
    }
   ],
   "source": [
    "dataset.drop(['day','month','year'],axis=1,inplace=True)\n",
    "print(dataset.info())\n",
    "algerian_forest_dataset = dataset.loc[:, dataset.columns != \"Classes\"]\n",
    "X_data_pre = algerian_forest_dataset.values\n",
    "y_data = dataset.loc[:, dataset.columns == \"Classes\"].values\n",
    "X_names_pre = algerian_forest_dataset.columns\n",
    "print('Collection shape: ', dataset.shape)\n",
    "print('Algerian shape: ', X_data_pre.shape)\n",
    "print('CLASS: ', y_data.shape)"
   ]
  },
  {
   "cell_type": "code",
   "execution_count": 31,
   "metadata": {},
   "outputs": [],
   "source": [
    "from sklearn.svm import LinearSVC\n",
    "from sklearn.linear_model import LogisticRegression\n",
    "import numpy as np\n",
    "import warnings\n",
    "warnings.filterwarnings('ignore')\n",
    "def removeFeature(X_data, y_data, num_features, X_names_feature, removedFeaturesList):\n",
    "    model = LogisticRegression(random_state=486).fit(X_data, y_data)\n",
    "    bestScore = model.score(X_data,y_data)\n",
    "    bestX_data = np.copy(X_data)\n",
    "    X_features = np.copy(X_names_feature)\n",
    "\n",
    "    removedFeature = ''\n",
    "    for i in range(X_data.shape[1]):\n",
    "        X_data_aux = np.copy(X_data)\n",
    "        X_data_reduced = np.delete(X_data_aux, i, 1)\n",
    "        model = LogisticRegression().fit(X_data_reduced, y_data)\n",
    "        score = model.score(X_data_reduced, y_data)\n",
    "        if score > bestScore:\n",
    "            bestScore = score\n",
    "            bestX_data = X_data_reduced\n",
    "            removedFeature = X_names_feature[i]\n",
    "            X_names_feature_aux = np.copy(X_names_feature)\n",
    "            X_features = np.delete(X_names_feature_aux, i, 0)\n",
    "\n",
    "    if removedFeature != '':\n",
    "        removedFeaturesList.append(removedFeature)\n",
    "        if len(removedFeaturesList) < num_features:\n",
    "            return removeFeature(bestX_data, y_data, num_features, X_features, removedFeaturesList)\n",
    "        else:\n",
    "            return bestX_data, X_features, removedFeaturesList, bestScore\n",
    "    else:\n",
    "        return bestX_data, X_features, removedFeaturesList, bestScore"
   ]
  },
  {
   "cell_type": "code",
   "execution_count": 32,
   "metadata": {},
   "outputs": [
    {
     "name": "stdout",
     "output_type": "stream",
     "text": [
      "Se han eliminado las siguientes 1 características: ['Ws']\n",
      "Rendimiento obtenido al eliminar las características: 0.996\n",
      "Forma del dataset resultante:  (243, 9)\n",
      "Características finales:  ['Temp' 'RH' 'Rain' 'FFMC' 'DMC' 'DC' 'ISI' 'BUI' 'FWI']\n"
     ]
    }
   ],
   "source": [
    "X_data_result, X_names_result, removedFeatures_result, bestScore = removeFeature(X_data_pre, y_data, 2, X_names_pre, [])\n",
    "print('Se han eliminado las siguientes {} características: {}'.format(len(removedFeatures_result), removedFeatures_result))\n",
    "print('Rendimiento obtenido al eliminar las características: {:.3f}'.format(bestScore))\n",
    "print('Forma del dataset resultante: ', X_data_result.shape)\n",
    "print('Características finales: ', X_names_result)"
   ]
  },
  {
   "cell_type": "markdown",
   "metadata": {},
   "source": [
    "Eliminamos la caracteristica WS"
   ]
  },
  {
   "cell_type": "code",
   "execution_count": 33,
   "metadata": {},
   "outputs": [
    {
     "name": "stdout",
     "output_type": "stream",
     "text": [
      "Index(['Temp', 'RH', 'Ws', 'FFMC', 'DC', 'FWI'], dtype='object')\n"
     ]
    }
   ],
   "source": [
    "from sklearn.feature_selection import SelectFromModel\n",
    "from sklearn.svm import LinearSVC\n",
    "\n",
    "select2 = SelectFromModel(LinearSVC(C=0.01, penalty=\"l1\", dual=False, random_state=486))\n",
    "select2.fit(X_data_pre,y_data)\n",
    "seleccionadas = select2.get_support()\n",
    "print(X_names_pre[seleccionadas])"
   ]
  },
  {
   "cell_type": "code",
   "execution_count": 34,
   "metadata": {},
   "outputs": [
    {
     "name": "stdout",
     "output_type": "stream",
     "text": [
      "(243, 6)\n"
     ]
    }
   ],
   "source": [
    "X_names = X_names_pre[seleccionadas]\n",
    "algerian_forest_dataset_final = dataset.loc[:, X_names]\n",
    "X_data = algerian_forest_dataset_final.values\n",
    "print(X_data.shape)"
   ]
  },
  {
   "cell_type": "code",
   "execution_count": 35,
   "metadata": {},
   "outputs": [],
   "source": [
    "from sklearn.model_selection import train_test_split\n",
    "from sklearn.preprocessing import MinMaxScaler\n",
    "\n",
    "X_train, X_test, y_train, y_test = train_test_split(X_data, y_data, random_state=8, test_size = 0.3, stratify=y_data)\n",
    "\n",
    "scaler = MinMaxScaler()\n",
    "scaler.fit(X_train)\n",
    "X_train = scaler.transform(X_train)\n",
    "X_test = scaler.transform(X_test)"
   ]
  },
  {
   "cell_type": "code",
   "execution_count": 36,
   "metadata": {},
   "outputs": [],
   "source": [
    "from sklearn.model_selection import GridSearchCV\n",
    "from sklearn.metrics import accuracy_score\n",
    "from sklearn.metrics import f1_score\n",
    "from sklearn.metrics import confusion_matrix\n",
    "random_state = [8]\n",
    "def searchParams(model, params):\n",
    "    grid = GridSearchCV(model, params, cv=5)\n",
    "    grid.fit(X_train, y_train)\n",
    "    print(\"Mejor parámetro: \", grid.best_params_)\n",
    "    print(\"Rendimiento en validación cruzada: {:.3f}\".format(grid.best_score_))\n",
    "    print(\"Rendimiento sobre conjunto de prueba: {:.3f}\".format(grid.score(X_test, y_test)))\n",
    "    pred = grid.predict(X_test)\n",
    "    accuracy = accuracy_score(y_test,pred)\n",
    "    f1 = f1_score(y_test,pred)\n",
    "    conf_matix = confusion_matrix(y_test,pred)\n",
    "    return grid.best_estimator_, round(accuracy, 4), round(f1, 4), conf_matix"
   ]
  },
  {
   "cell_type": "markdown",
   "metadata": {},
   "source": [
    "## KNN"
   ]
  },
  {
   "cell_type": "code",
   "execution_count": 37,
   "metadata": {},
   "outputs": [
    {
     "name": "stdout",
     "output_type": "stream",
     "text": [
      "Mejor parámetro:  {'n_neighbors': 3, 'p': 1, 'weights': 'uniform'}\n",
      "Rendimiento en validación cruzada: 0.947\n",
      "Rendimiento sobre conjunto de prueba: 0.932\n"
     ]
    }
   ],
   "source": [
    "from sklearn.neighbors import KNeighborsClassifier\n",
    "param_grid_knn = {\n",
    "    'n_neighbors' : [5, 10, 2, 3],\n",
    "    'p' : [1,2],\n",
    "    'weights' : ['distance','uniform']\n",
    "}\n",
    "best_model_knn, accuracy_knn, f1_knn, conf_matix_knn = searchParams(KNeighborsClassifier(), param_grid_knn)"
   ]
  },
  {
   "cell_type": "markdown",
   "metadata": {},
   "source": [
    "## Árboles de decisión"
   ]
  },
  {
   "cell_type": "code",
   "execution_count": 38,
   "metadata": {},
   "outputs": [
    {
     "name": "stdout",
     "output_type": "stream",
     "text": [
      "Mejor parámetro:  {'max_depth': 10, 'min_impurity_decrease': 0.1, 'min_samples_split': 5, 'random_state': 8}\n",
      "Rendimiento en validación cruzada: 0.971\n",
      "Rendimiento sobre conjunto de prueba: 0.973\n"
     ]
    }
   ],
   "source": [
    "from sklearn.tree import DecisionTreeClassifier\n",
    "param_grid_tree = {\n",
    "    'random_state' : random_state,\n",
    "    'max_depth' : [10, 3, 6, 8,],\n",
    "    'min_samples_split' : [5, 10, 2, 15],\n",
    "    'min_impurity_decrease' : [0.1, 0.001, 1, 0.15]\n",
    "}\n",
    "best_model_tree, accuracy_tree, f1_tree, conf_matix_tree = searchParams(DecisionTreeClassifier(), param_grid_tree)"
   ]
  },
  {
   "cell_type": "code",
   "execution_count": 39,
   "metadata": {},
   "outputs": [],
   "source": [
    "#from sklearn.tree import export_graphviz\n",
    "#from matplotlib import pyplot as plt\n",
    "\n",
    "#export_graphviz(best_estimator_tree, out_file=\"algerian_forest_tree.dot\", feature_names=X_names, rounded=True, filled=True)"
   ]
  },
  {
   "cell_type": "code",
   "execution_count": 40,
   "metadata": {},
   "outputs": [],
   "source": [
    "#!dot -Tpng algerian_forest_tree.dot -o algerian_forest_tree.png"
   ]
  },
  {
   "cell_type": "code",
   "execution_count": 41,
   "metadata": {},
   "outputs": [],
   "source": [
    "#plt.clf()\n",
    "#image = plt.imread(\"algerian_forest_tree.png\")\n",
    "#height, width, depth = image.shape\n",
    "#dpi = 70\n",
    "#figsize = width / float(dpi), height / float(dpi)\n",
    "#plt.figure(figsize=figsize).add_axes([0, 0, 1, 1])\n",
    "#plt.axis('off')\n",
    "#plt.imshow(image)\n",
    "#plt.show()"
   ]
  },
  {
   "cell_type": "markdown",
   "metadata": {},
   "source": [
    "### Random Forest"
   ]
  },
  {
   "cell_type": "code",
   "execution_count": 42,
   "metadata": {},
   "outputs": [
    {
     "name": "stdout",
     "output_type": "stream",
     "text": [
      "Mejor parámetro:  {'max_depth': 10, 'n_estimators': 5, 'random_state': 8}\n",
      "Rendimiento en validación cruzada: 0.976\n",
      "Rendimiento sobre conjunto de prueba: 0.945\n"
     ]
    }
   ],
   "source": [
    "from sklearn.ensemble import RandomForestClassifier\n",
    "param_grid_rf = {\n",
    "    'random_state' : random_state,\n",
    "    'n_estimators' : [3, 5, 9, 15, 30],\n",
    "    'max_depth' : [10, 3, 6, 8,],\n",
    "}\n",
    "best_model_rf, accuracy_rf, f1_rf, conf_matix_rf = searchParams(RandomForestClassifier(), param_grid_rf)"
   ]
  },
  {
   "cell_type": "markdown",
   "metadata": {},
   "source": [
    "### Gradient Boosting"
   ]
  },
  {
   "cell_type": "code",
   "execution_count": 43,
   "metadata": {},
   "outputs": [
    {
     "name": "stdout",
     "output_type": "stream",
     "text": [
      "Mejor parámetro:  {'max_depth': 10, 'n_estimators': 3, 'random_state': 8}\n",
      "Rendimiento en validación cruzada: 0.965\n",
      "Rendimiento sobre conjunto de prueba: 0.973\n"
     ]
    }
   ],
   "source": [
    "from sklearn.ensemble import GradientBoostingClassifier\n",
    "param_grid_gb = {\n",
    "    'random_state' : random_state,\n",
    "    'n_estimators' : [3, 5, 9, 15, 30],\n",
    "    'max_depth' : [10, 3, 6, 8,],\n",
    "}\n",
    "best_model_gb, accuracy_gb, f1_gb, conf_matix_gb = searchParams(GradientBoostingClassifier(), param_grid_gb)"
   ]
  },
  {
   "cell_type": "markdown",
   "metadata": {},
   "source": [
    "## NaiveBayes"
   ]
  },
  {
   "cell_type": "code",
   "execution_count": 44,
   "metadata": {},
   "outputs": [
    {
     "name": "stdout",
     "output_type": "stream",
     "text": [
      "Mejor parámetro:  {'alpha': 0.0001}\n",
      "Rendimiento en validación cruzada: 0.882\n",
      "Rendimiento sobre conjunto de prueba: 0.822\n"
     ]
    }
   ],
   "source": [
    "from sklearn.naive_bayes import MultinomialNB\n",
    "param_grid_nb = {\n",
    "    'alpha': [0.0001,0.001, 0.01,0.1, 1, 10,100,200]\n",
    "}\n",
    "best_model_nb, accuracy_nb, f1_nb, conf_matix_nb = searchParams(MultinomialNB(), param_grid_nb)"
   ]
  },
  {
   "cell_type": "markdown",
   "metadata": {},
   "source": [
    "## Modelos lineales\n",
    "### Regresión logística"
   ]
  },
  {
   "cell_type": "code",
   "execution_count": 45,
   "metadata": {},
   "outputs": [
    {
     "name": "stdout",
     "output_type": "stream",
     "text": [
      "Mejor parámetro:  {'C': 100, 'penalty': 'l2', 'random_state': 8}\n",
      "Rendimiento en validación cruzada: 0.959\n",
      "Rendimiento sobre conjunto de prueba: 0.945\n"
     ]
    }
   ],
   "source": [
    "from sklearn.linear_model import LogisticRegression\n",
    "param_grid_rl = {\n",
    "    'random_state' : random_state,\n",
    "    'C': [0.001, 0.01, 0.1, 1, 10, 100],\n",
    "    'penalty' : ['l1','l2']\n",
    "}\n",
    "best_model_rl, accuracy_rl, f1_rl, conf_matix_rl = searchParams(LogisticRegression(), param_grid_rl)"
   ]
  },
  {
   "cell_type": "markdown",
   "metadata": {},
   "source": [
    "### Modelos lineales SVC"
   ]
  },
  {
   "cell_type": "code",
   "execution_count": 46,
   "metadata": {},
   "outputs": [
    {
     "name": "stdout",
     "output_type": "stream",
     "text": [
      "Mejor parámetro:  {'C': 100, 'penalty': 'l2', 'random_state': 8}\n",
      "Rendimiento en validación cruzada: 0.959\n",
      "Rendimiento sobre conjunto de prueba: 0.945\n"
     ]
    }
   ],
   "source": [
    "from sklearn.svm import LinearSVC\n",
    "param_grid_lsvc = {\n",
    "    'random_state' : random_state,\n",
    "    'C': [0.001, 0.01, 0.1, 1, 10, 100],\n",
    "    'penalty' : ['l1','l2']\n",
    "}\n",
    "best_model_lsvc, accuracy_lsvc, f1_lsvc, conf_matix_lsvc = searchParams(LinearSVC(), param_grid_lsvc)"
   ]
  },
  {
   "cell_type": "markdown",
   "metadata": {},
   "source": [
    "## Redes neuronales"
   ]
  },
  {
   "cell_type": "code",
   "execution_count": 47,
   "metadata": {},
   "outputs": [
    {
     "name": "stdout",
     "output_type": "stream",
     "text": [
      "Mejor parámetro:  {'alpha': 0.01, 'random_state': 8, 'solver': 'lbfgs'}\n",
      "Rendimiento en validación cruzada: 0.965\n",
      "Rendimiento sobre conjunto de prueba: 0.932\n"
     ]
    }
   ],
   "source": [
    "from sklearn.neural_network import MLPClassifier\n",
    "param_grid_nn = {\n",
    "    'random_state' : random_state,\n",
    "    'solver': ['sgd','lbfgs'],\n",
    "    'alpha': [0.0001,0.001, 0.01,0.1, 1, 10,100,200]\n",
    "}\n",
    "best_model_nn, accuracy_nn, f1_nn, conf_matix_nn = searchParams(MLPClassifier(), param_grid_nn)"
   ]
  },
  {
   "cell_type": "code",
   "execution_count": 50,
   "metadata": {},
   "outputs": [
    {
     "name": "stdout",
     "output_type": "stream",
     "text": [
      "Métria     KNN        Árboles    Random Forest      Gradient boosting  Naive Bayes     Regresión logística  Lineal SVC      Redes neuronales\n",
      "accuracy   0.9315     0.9726     0.9452             0.9726             0.8219          0.9452               0.9452          0.9315         \n",
      "f1         0.9412     0.9762     0.9512             0.9762             0.8571          0.9512               0.9512          0.9383         \n",
      "[[28  4]\n",
      " [ 1 40]] [[30  2]\n",
      " [ 0 41]] [[30  2]\n",
      " [ 2 39]] [[30  2]\n",
      " [ 0 41]] [[21 11]\n",
      " [ 2 39]] [[30  2]\n",
      " [ 2 39]] [[30  2]\n",
      " [ 2 39]] [[30  2]\n",
      " [ 3 38]]\n"
     ]
    }
   ],
   "source": [
    "metrics = {\n",
    "    \"accuracy\": [accuracy_knn, accuracy_tree, accuracy_rf, accuracy_gb, accuracy_nb, accuracy_rl, accuracy_lsvc, accuracy_nn],\n",
    "    \"f1\" : [f1_knn, f1_tree, f1_rf, f1_gb, f1_nb, f1_rl, f1_lsvc, f1_nn],\n",
    "    #\"matriz de confusión\" : [conf_matix_knn, conf_matix_tree, conf_matix_rf, conf_matix_gb, conf_matix_nb, conf_matix_rl, conf_matix_lsvc, conf_matix_nn]\n",
    "}\n",
    "print (\"{:<10} {:<10} {:<10} {:<18} {:<18} {:<15} {:<20} {:<15} {:<15}\".format('Métria','KNN','Árboles','Random Forest','Gradient boosting', 'Naive Bayes', 'Regresión logística', 'Lineal SVC', 'Redes neuronales'))\n",
    "for key, value in metrics.items():\n",
    "    knn, tree, rf, gb, nb, rl, lsvc, nn = value\n",
    "    if key != \"matriz de confusión\":\n",
    "        print(\"{:<10} {:<10} {:<10} {:<18} {:<18} {:<15} {:<20} {:<15} {:<15}\".format(key, knn, tree, rf, gb, nb, rl, lsvc, nn))\n",
    "    else:\n",
    "        print(knn, tree, rf, gb, nb, rl, lsvc, nn)"
   ]
  },
  {
   "cell_type": "markdown",
   "metadata": {},
   "source": [
    "Validacion cruzada - ya se hace en grid search\n",
    "Conjunto de validacion - no lo uso porque son mjuy pocos datos"
   ]
  }
 ],
 "metadata": {
  "interpreter": {
   "hash": "aee8b7b246df8f9039afb4144a1f6fd8d2ca17a180786b69acc140d282b71a49"
  },
  "kernelspec": {
   "display_name": "Python 3.9.9 64-bit",
   "language": "python",
   "name": "python3"
  },
  "language_info": {
   "codemirror_mode": {
    "name": "ipython",
    "version": 3
   },
   "file_extension": ".py",
   "mimetype": "text/x-python",
   "name": "python",
   "nbconvert_exporter": "python",
   "pygments_lexer": "ipython3",
   "version": "3.9.9"
  },
  "orig_nbformat": 4
 },
 "nbformat": 4,
 "nbformat_minor": 2
}
